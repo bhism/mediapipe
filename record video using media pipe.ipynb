{
 "cells": [
  {
   "cell_type": "code",
   "execution_count": 1,
   "metadata": {},
   "outputs": [],
   "source": [
    "import cv2 \n",
    "import os\n",
    "import mediapipe as mp"
   ]
  },
  {
   "cell_type": "code",
   "execution_count": 2,
   "metadata": {},
   "outputs": [],
   "source": [
    "mp_drawing = mp.solutions.drawing_utils\n",
    "mp_hands = mp.solutions.hands"
   ]
  },
  {
   "cell_type": "code",
   "execution_count": 3,
   "metadata": {},
   "outputs": [
    {
     "data": {
      "text/plain": [
       "<function destroyAllWindows>"
      ]
     },
     "execution_count": 3,
     "metadata": {},
     "output_type": "execute_result"
    }
   ],
   "source": [
    "\n",
    "filename = 'withhand.mp4'\n",
    "frames_per_second = 24.0\n",
    "res = '720p'\n",
    "def change_res(cap, width, height):\n",
    "    cap.set(3, width)\n",
    "    cap.set(4, height)\n",
    "STD_DIMENSIONS =  {\n",
    "    \"480p\": (640, 480),\n",
    "    \"720p\": (1280, 720),\n",
    "    \"1080p\": (1920, 1080),\n",
    "    \"4k\": (3840, 2160),\n",
    "}\n",
    "\n",
    "\n",
    "def get_dims(cap, res='1080p'):\n",
    "    width, height = STD_DIMENSIONS[\"480p\"]\n",
    "    if res in STD_DIMENSIONS:\n",
    "        width,height = STD_DIMENSIONS[res]\n",
    "    change_res(cap, width, height)\n",
    "    return width, height\n",
    "\n",
    "VIDEO_TYPE = {\n",
    "    'avi': cv2.VideoWriter_fourcc(*'XVID'),\n",
    "    'mp4': cv2.VideoWriter_fourcc(*'XVID'),\n",
    "}\n",
    "\n",
    "def get_video_type(filename):\n",
    "    filename, ext = os.path.splitext(filename)\n",
    "    if ext in VIDEO_TYPE:\n",
    "      return  VIDEO_TYPE[ext]\n",
    "    return VIDEO_TYPE['avi']\n",
    "\n",
    "cap = cv2.VideoCapture(0)\n",
    "\n",
    "cap.set(3,80000)\n",
    "cap.set(4,60000)\n",
    "out = cv2.VideoWriter(filename, get_video_type(filename), 25, get_dims(cap, res))\n",
    "with mp_hands.Hands(min_detection_confidence = 0.8,min_tracking_confidence= 0.5) as hands:\n",
    "    while True:\n",
    "    \n",
    "        ret,frame = cap.read()\n",
    "        \n",
    "        \n",
    "        image = cv2.cvtColor(frame, cv2.COLOR_BGR2RGB)\n",
    "        image = cv2.flip(image,1)\n",
    "        image.flags.writeable = False\n",
    "        result = hands.process(image)\n",
    "        image.flags.writeable = True\n",
    "        image = cv2.cvtColor(image, cv2.COLOR_RGB2BGR)\n",
    "\n",
    "        \n",
    "        \n",
    "        \n",
    "        try:\n",
    "            if result.multi_hand_landmarks:\n",
    "                for num, hand in enumerate(result.multi_hand_landmarks):\n",
    "                    mp_drawing.draw_landmarks(image,hand,mp_hands.HAND_CONNECTIONS,\n",
    "                                              mp_drawing.DrawingSpec(color=(15,55,250),thickness=2,circle_radius=6),\n",
    "                                              mp_drawing.DrawingSpec(color=(15,55,250),thickness=2,circle_radius=4),\n",
    "                                              \n",
    "                                             )\n",
    "        except Exception as e: \n",
    "            print(e)\n",
    "        cv2.imshow('hand tracking',image)\n",
    "        out.write(image)        \n",
    "        if cv2.waitKey(1) & 0xFF == ord('q'):\n",
    "            break\n",
    "cap.release()\n",
    "out.release()\n",
    "cv2.destroyAllWindows"
   ]
  },
  {
   "cell_type": "code",
   "execution_count": null,
   "metadata": {},
   "outputs": [],
   "source": []
  }
 ],
 "metadata": {
  "kernelspec": {
   "display_name": "Python 3",
   "language": "python",
   "name": "python3"
  },
  "language_info": {
   "codemirror_mode": {
    "name": "ipython",
    "version": 3
   },
   "file_extension": ".py",
   "mimetype": "text/x-python",
   "name": "python",
   "nbconvert_exporter": "python",
   "pygments_lexer": "ipython3",
   "version": "3.8.5"
  }
 },
 "nbformat": 4,
 "nbformat_minor": 4
}
